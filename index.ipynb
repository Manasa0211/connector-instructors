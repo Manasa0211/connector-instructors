{
 "cells": [
  {
   "cell_type": "markdown",
   "metadata": {},
   "source": [
    "# Connector Instructors\n",
    "This is a collection of jupyter notebooks that contain useful code / examples that you may use for your courses. It is organized into two sections:\n",
    "\n",
    "## Examples ([link](./examples/))\n",
    "Contains samples notebooks to show how functions in the `connectortools` may be used. You can open these in jupyter and run them to get a feel for what you can do with this code.\n",
    "\n",
    "## Tutorials ([link](./tutorials/))\n",
    "Contains some sample tutorials that cover general topics in programming in python and analyzing data. They may be useful to cover with classes at the beginning of the semester, or as a reference. Feel free to copy them, edit them, and use them with your course if you'd like."
   ]
  },
  {
   "cell_type": "code",
   "execution_count": null,
   "metadata": {
    "collapsed": true
   },
   "outputs": [],
   "source": []
  }
 ],
 "metadata": {
  "anaconda-cloud": {},
  "kernelspec": {
   "display_name": "Python [default]",
   "language": "python",
   "name": "python3"
  },
  "language_info": {
   "codemirror_mode": {
    "name": "ipython",
    "version": 3
   },
   "file_extension": ".py",
   "mimetype": "text/x-python",
   "name": "python",
   "nbconvert_exporter": "python",
   "pygments_lexer": "ipython3",
   "version": "3.5.2"
  }
 },
 "nbformat": 4,
 "nbformat_minor": 2
}
