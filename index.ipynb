{
 "cells": [
  {
   "cell_type": "markdown",
   "metadata": {},
   "source": [
    "# Connector Instructors\n",
    "This is a collection of jupyter notebooks that contain useful code / examples that you may use for your courses. It is organized into two sections:\n",
    "\n",
    "# Tutorials ([link](./tutorials/))\n",
    "Contains some sample tutorials that cover general topics in programming in python and analyzing data. They may be useful to cover with classes at the beginning of the semester, or as a reference.\n",
    "\n",
    "# Examples ([link](./examples/))\n",
    "Contains samples notebooks to show how functions in the `connectortools` may be used."
   ]
  }
 ],
 "metadata": {
  "kernelspec": {
   "display_name": "Python 2",
   "language": "python",
   "name": "python2"
  },
  "language_info": {
   "codemirror_mode": {
    "name": "ipython",
    "version": 2
   },
   "file_extension": ".py",
   "mimetype": "text/x-python",
   "name": "python",
   "nbconvert_exporter": "python",
   "pygments_lexer": "ipython2",
   "version": "2.7.11"
  }
 },
 "nbformat": 4,
 "nbformat_minor": 2
}
