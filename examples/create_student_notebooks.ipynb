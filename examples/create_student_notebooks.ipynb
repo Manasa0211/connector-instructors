{
 "cells": [
  {
   "cell_type": "code",
   "execution_count": 1,
   "metadata": {
    "collapsed": false
   },
   "outputs": [],
   "source": [
    "# So we can import connectortools\n",
    "import sys\n",
    "sys.path.append('../')\n",
    "\n",
    "import connectortools as ct"
   ]
  },
  {
   "cell_type": "markdown",
   "metadata": {},
   "source": [
    "# Create student homework notebooks\n",
    "It is often useful to write notebooks with all of the information related to their content, and then strip some of this information away before giving it to students. For example, perhaps you want to write yourself some notes for a live notebook demo, or perhaps you've written in answers that should be stripped before sending the notebook to students.\n",
    "\n",
    "## Creating student versions with answers removed\n",
    "Here we'll create a notebook we might use for a homework. In `test_notebook`, we've asked the students to answer a question. Using the `NotebookCleaner` class, we can designate certain cells as \"solution\" cells. That way we can clear the answers for those cells and generate a version of the notebook suitable for sending to students.\n",
    "\n",
    "This works for both **code** cells, as well as **markdown** cells."
   ]
  },
  {
   "cell_type": "code",
   "execution_count": 2,
   "metadata": {
    "collapsed": false
   },
   "outputs": [
    {
     "name": "stdout",
     "output_type": "stream",
     "text": [
      "Saving to ./test_notebooks/test_notebook_student.ipynb\n"
     ]
    }
   ],
   "source": [
    "# This designates text that will define a \"solution\".\n",
    "# It must have a start and a stop within a cell\n",
    "text_solution_begin = '### SOLUTION BEGIN'\n",
    "text_solution_end = '### SOLUTION END'\n",
    "\n",
    "# Here are paths to our notebooks\n",
    "path_original_notebook = './test_notebooks/test_notebook.ipynb'\n",
    "path_save = './test_notebooks/'\n",
    "\n",
    "# Process the notebook\n",
    "ntbk = ct.NotebookCleaner(path_original_notebook)\n",
    "ntbk.clear_outputs()\n",
    "ntbk.create_answer_cells(text_solution_begin, text_solution_end)\n",
    "\n",
    "# Now we'll save the notebook to inspect\n",
    "ntbk.save(path_save + 'test_notebook_student.ipynb')"
   ]
  },
  {
   "cell_type": "markdown",
   "metadata": {},
   "source": [
    "# Create lecturer notebook w/ info removed\n",
    "Sometimes you want more flexibility in how the notebook cells are stripped. For example, maybe for some cells we want to remove the entire thing. This can be useful if we want to keep some cells as \"notes\" to the instructor, but we don't want those cells showing up when we're giving a live demonstration. You can easily accomplish this by playing around with the parameters of `strip_answers`:"
   ]
  },
  {
   "cell_type": "code",
   "execution_count": 3,
   "metadata": {
    "collapsed": false
   },
   "outputs": [
    {
     "name": "stdout",
     "output_type": "stream",
     "text": [
      "Saving to ./test_notebooks/test_notebook_teacher.ipynb\n"
     ]
    }
   ],
   "source": [
    "text_remove = '### TEACHER INFO'\n",
    "\n",
    "# Process the notebook\n",
    "ntbk = ct.NotebookCleaner(path_original_notebook)\n",
    "ntbk.clear_outputs()\n",
    "ntbk.remove_cells(text_remove)\n",
    "ntbk.save(path_save + 'test_notebook_teacher.ipynb')"
   ]
  },
  {
   "cell_type": "markdown",
   "metadata": {},
   "source": [
    "# Combining processor types\n",
    "By combining matching text etc in different ways, we can perform many types of preprocessing on the same notebook."
   ]
  },
  {
   "cell_type": "code",
   "execution_count": 4,
   "metadata": {
    "collapsed": false
   },
   "outputs": [
    {
     "name": "stdout",
     "output_type": "stream",
     "text": [
      "Saving to ./test_notebooks/test_notebook_combined.ipynb\n"
     ]
    }
   ],
   "source": [
    "# Create the cleaner object\n",
    "ntbk = ct.NotebookCleaner(path_original_notebook)\n",
    "\n",
    "# Clear outputs of all cells\n",
    "ntbk.clear_outputs()\n",
    "\n",
    "# Create student answer cells\n",
    "ntbk.create_answer_cells(text_solution_begin, text_solution_end)\n",
    "\n",
    "# Remove teacher information cells\n",
    "ntbk.remove_cells(text_remove)\n",
    "\n",
    "ntbk.save(path_save + 'test_notebook_combined.ipynb')"
   ]
  },
  {
   "cell_type": "markdown",
   "metadata": {},
   "source": [
    "Note that we can also keep track of which preprocessors we've used below: "
   ]
  },
  {
   "cell_type": "code",
   "execution_count": 5,
   "metadata": {
    "collapsed": false
   },
   "outputs": [
    {
     "name": "stdout",
     "output_type": "stream",
     "text": [
      "[<nbgrader.preprocessors.clearoutput.ClearOutput object at 0x10e200d68>, <nbgrader.preprocessors.clearsolutions.ClearSolutions object at 0x104e45358>, <connectortools.grading.RemoveCells object at 0x10e200dd8>]\n"
     ]
    }
   ],
   "source": [
    "print(ntbk.preprocessors)"
   ]
  },
  {
   "cell_type": "code",
   "execution_count": 6,
   "metadata": {
    "collapsed": false
   },
   "outputs": [
    {
     "data": {
      "text/plain": [
       "Number of preprocessors: 3\n",
       "---\n",
       "<nbgrader.preprocessors.clearoutput.ClearOutput object at 0x10e200d68>\n",
       "<nbgrader.preprocessors.clearsolutions.ClearSolutions object at 0x104e45358>\n",
       "<connectortools.grading.RemoveCells object at 0x10e200dd8>"
      ]
     },
     "execution_count": 6,
     "metadata": {},
     "output_type": "execute_result"
    }
   ],
   "source": [
    "ntbk"
   ]
  },
  {
   "cell_type": "code",
   "execution_count": null,
   "metadata": {
    "collapsed": true
   },
   "outputs": [],
   "source": []
  }
 ],
 "metadata": {
  "hide_input": false,
  "kernelspec": {
   "display_name": "Python 3",
   "language": "python",
   "name": "python3"
  },
  "language_info": {
   "codemirror_mode": {
    "name": "ipython",
    "version": 3
   },
   "file_extension": ".py",
   "mimetype": "text/x-python",
   "name": "python",
   "nbconvert_exporter": "python",
   "pygments_lexer": "ipython3",
   "version": "3.5.2"
  }
 },
 "nbformat": 4,
 "nbformat_minor": 0
}
