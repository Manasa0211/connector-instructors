{
 "cells": [
  {
   "cell_type": "code",
   "execution_count": 1,
   "metadata": {
    "collapsed": false
   },
   "outputs": [],
   "source": [
    "import connectortools as ct"
   ]
  },
  {
   "cell_type": "markdown",
   "metadata": {},
   "source": [
    "# Create student notebooks\n",
    "It is often useful to write notebooks with all of the information related to their content, and then strip some of this information away before giving it to students. For example, perhaps you want to write yourself some notes for a live notebook demo, or perhaps you've written in answers that should be stripped before sending the notebook to students.\n",
    "\n",
    "Here we'll create a notebook we might use for a homework. In `test_notebook`, we've asked the students to answer a question. Using the `create_student_notebook` function, we can designate certain cells as \"student answer\" cells. That way we can clear the answers for those cells and generate a version of the notebook suitable for sending to students:"
   ]
  },
  {
   "cell_type": "code",
   "execution_count": 2,
   "metadata": {
    "collapsed": false
   },
   "outputs": [
    {
     "name": "stdout",
     "output_type": "stream",
     "text": [
      "Saving to ./test_notebooks/test_notebook_student.ipynb\n"
     ]
    }
   ],
   "source": [
    "# Here we'll create a notebook we might use for a homework\n",
    "# In `test_notebook`, we've asked the students to answer a question.\n",
    "match_text = '### STUDENT ANSWER'\n",
    "suffix = 'student'\n",
    "path_original_notebook = './test_notebooks/test_notebook.ipynb'\n",
    "path_save = './test_notebooks/'\n",
    "_ = ct.create_student_notebook(path_original_notebook, match_text, suffix,\n",
    "                               path_save=path_save)"
   ]
  },
  {
   "cell_type": "markdown",
   "metadata": {},
   "source": [
    "## Adding empty markdown cells for text answers\n",
    "Sometimes we also want students to answer questions with text rather than code. In this case, markdown cells handle formatting much better than code. We can insert empty markdown cells for student text answers like this:"
   ]
  },
  {
   "cell_type": "code",
   "execution_count": 3,
   "metadata": {
    "collapsed": false
   },
   "outputs": [
    {
     "name": "stdout",
     "output_type": "stream",
     "text": [
      "Saving to ./test_notebooks/test_notebook_student_text_answers.ipynb\n"
     ]
    }
   ],
   "source": [
    "match_text = '### STUDENT TEXT ANSWER'\n",
    "suffix = 'text_answers'\n",
    "path_open = path_save + 'test_notebook_student.ipynb'\n",
    "_ = ct.create_student_notebook(path_open, match_text, suffix,\n",
    "                               path_save=path_save,\n",
    "                               remove_cell=True, add_md_cell=True)"
   ]
  },
  {
   "cell_type": "markdown",
   "metadata": {},
   "source": [
    "If we wanted to, we could then rename the newly created notebook so that only a single notebook remains. Here, we will leave it as is so that you can see how to apply multiple changes to a single student notebook."
   ]
  },
  {
   "cell_type": "markdown",
   "metadata": {},
   "source": [
    "# Create lecturer notebook w/ info removed\n",
    "Sometimes you want more flexibility in how the notebook cells are stripped. For example, maybe for some cells we want to remove the entire thing. This can be useful if we want to keep some cells as \"notes\" to the instructor, but we don't want those cells showing up when we're giving a live demonstration. You can easily accomplish this by playing around with the parameters of `strip_answers`:"
   ]
  },
  {
   "cell_type": "code",
   "execution_count": 4,
   "metadata": {
    "collapsed": false
   },
   "outputs": [
    {
     "name": "stdout",
     "output_type": "stream",
     "text": [
      "Saving to ./test_notebooks/test_notebook_student_teacher.ipynb\n"
     ]
    }
   ],
   "source": [
    "_ = ct.create_student_notebook(path_open, '### TEACHER INFO',\n",
    "                               path_save=path_save,\n",
    "                               output_suffix='teacher', clear_outputs=False)"
   ]
  }
 ],
 "metadata": {
  "hide_input": false,
  "kernelspec": {
   "display_name": "Python 2",
   "language": "python",
   "name": "python2"
  },
  "language_info": {
   "codemirror_mode": {
    "name": "ipython",
    "version": 2
   },
   "file_extension": ".py",
   "mimetype": "text/x-python",
   "name": "python",
   "nbconvert_exporter": "python",
   "pygments_lexer": "ipython2",
   "version": "2.7.11"
  }
 },
 "nbformat": 4,
 "nbformat_minor": 0
}
