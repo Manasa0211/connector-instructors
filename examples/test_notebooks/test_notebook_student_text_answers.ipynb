{
 "cells": [
  {
   "cell_type": "code",
   "execution_count": null,
   "metadata": {
    "collapsed": true
   },
   "outputs": [],
   "source": [
    "import numpy as np\n",
    "import matplotlib.pyplot as plt\n",
    "%matplotlib inline"
   ]
  },
  {
   "cell_type": "markdown",
   "metadata": {},
   "source": [
    "This is a notebook that we've drafted for an upcoming class. There are some markdown prompts, cells where students must insert code, and cells where students must give text answers.\n",
    "\n",
    "We'll strip this notebook of all outputs and cell execution numbers, and format the input cells so that they're ready for submitting to students as homework templates."
   ]
  },
  {
   "cell_type": "markdown",
   "metadata": {},
   "source": [
    "## Removing part of a cell for a student answer"
   ]
  },
  {
   "cell_type": "markdown",
   "metadata": {},
   "source": [
    "Question 1\n",
    "---\n",
    "* First, multiply `a` by 2\n",
    "* Make a plot of the result"
   ]
  },
  {
   "cell_type": "code",
   "execution_count": null,
   "metadata": {
    "collapsed": false
   },
   "outputs": [],
   "source": [
    "# First we'll create \"a\"\n",
    "a = np.arange(10)\n",
    "\n",
    "### STUDENT ANSWER\n"
   ]
  },
  {
   "cell_type": "markdown",
   "metadata": {},
   "source": [
    "## Cells without the matching text won't be modified"
   ]
  },
  {
   "cell_type": "markdown",
   "metadata": {},
   "source": [
    "Here's an example of how we can plot the two variables against each other."
   ]
  },
  {
   "cell_type": "code",
   "execution_count": null,
   "metadata": {
    "collapsed": false
   },
   "outputs": [],
   "source": [
    "# Cells without any of the text that we search for using the\n",
    "# strip_notebooks function won't be affected at all.\n",
    "plt.scatter(a, a*2)"
   ]
  },
  {
   "cell_type": "markdown",
   "metadata": {},
   "source": [
    "## Creating markdown answer cells"
   ]
  },
  {
   "cell_type": "markdown",
   "metadata": {},
   "source": [
    "Finally, it is often useful to ask students \"conceptual\" questions that are answered with prose rather than with code. It's clunky to use code cells for this, so `create_student_notebook` also lets you insert an empty markdown cell after a question if desired.\n",
    "\n",
    "For example, we could ask students:\n",
    "\n",
    "> Below, explain the relationship between x and y"
   ]
  },
  {
   "cell_type": "markdown",
   "metadata": {},
   "source": [
    "---\n",
    "## Student Answer\n",
    "\n",
    "*Double-click and add your answer here*\n",
    "\n",
    "---"
   ]
  },
  {
   "cell_type": "markdown",
   "metadata": {},
   "source": [
    "## Removing cells entirely\n",
    "The following cell should be removed ONLY in the \"teacher\" version:"
   ]
  },
  {
   "cell_type": "code",
   "execution_count": null,
   "metadata": {
    "collapsed": true
   },
   "outputs": [],
   "source": [
    "### TEACHER INFO\n",
    "# We can use the function to remove this entire block, that way\n",
    "# we can save notes for the instructor here. The notes will remain\n",
    "# in the instructor master copy, but be removed from the stripped\n",
    "# version of the copy (that you'd use for a live demo, for example)"
   ]
  },
  {
   "cell_type": "code",
   "execution_count": null,
   "metadata": {
    "collapsed": true
   },
   "outputs": [],
   "source": []
  }
 ],
 "metadata": {
  "hide_input": false,
  "kernelspec": {
   "display_name": "Python 2",
   "language": "python",
   "name": "python2"
  },
  "language_info": {
   "codemirror_mode": {
    "name": "ipython",
    "version": 2
   },
   "file_extension": ".py",
   "mimetype": "text/x-python",
   "name": "python",
   "nbconvert_exporter": "python",
   "pygments_lexer": "ipython2",
   "version": "2.7.11"
  }
 },
 "nbformat": 4,
 "nbformat_minor": 1
}
