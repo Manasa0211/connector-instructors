{
 "cells": [
  {
   "cell_type": "code",
   "execution_count": 1,
   "metadata": {
    "collapsed": false
   },
   "outputs": [],
   "source": [
    "import numpy as np\n",
    "import matplotlib.pyplot as plt\n",
    "%matplotlib inline"
   ]
  },
  {
   "cell_type": "markdown",
   "metadata": {},
   "source": [
    "This is a notebook that we've drafted for an upcoming class. There are some markdown prompts, cells where students must insert code, and cells where students must give text answers.\n",
    "\n",
    "We'll strip this notebook of all outputs and cell execution numbers, and format the input cells so that they're ready for submitting to students as homework templates."
   ]
  },
  {
   "cell_type": "markdown",
   "metadata": {},
   "source": [
    "# Removing part of a cell for a student answer\n",
    "\n",
    "## Question 1\n",
    "* First, multiply `a` by 2\n",
    "* Make a plot of the result"
   ]
  },
  {
   "cell_type": "code",
   "execution_count": 2,
   "metadata": {
    "collapsed": false
   },
   "outputs": [
    {
     "data": {
      "text/plain": [
       "[<matplotlib.lines.Line2D at 0x101909fd0>]"
      ]
     },
     "execution_count": 2,
     "metadata": {},
     "output_type": "execute_result"
    },
    {
     "data": {
      "image/png": "[encoded data removed]",
      "text/plain": [
       "<matplotlib.figure.Figure at 0x1047144a8>"
      ]
     },
     "metadata": {},
     "output_type": "display_data"
    }
   ],
   "source": [
    "# First we'll create \"a\"\n",
    "a = np.arange(10)\n",
    "\n",
    "### SOLUTION BEGIN\n",
    "# We can use the STUDENT ANSWER block to remove only part\n",
    "# of the cell (as well as the output). This way you can give\n",
    "# students prompts or help them along with some partial answers.\n",
    "b = a * 2\n",
    "plt.plot(b)\n",
    "\n",
    "# Students will now see a replacement answer prompt, and\n",
    "# won't see the solution. By default the replacement answer will\n",
    "# raise an error to make sure students don't miss it.\n",
    "### SOLUTION END"
   ]
  },
  {
   "cell_type": "markdown",
   "metadata": {},
   "source": [
    "## Cells without the matching text won't be modified\n",
    "\n",
    "Here's an example of how we can plot the two variables against each other."
   ]
  },
  {
   "cell_type": "code",
   "execution_count": 3,
   "metadata": {
    "collapsed": false
   },
   "outputs": [
    {
     "data": {
      "text/plain": [
       "<matplotlib.collections.PathCollection at 0x10c92df28>"
      ]
     },
     "execution_count": 3,
     "metadata": {},
     "output_type": "execute_result"
    },
    {
     "data": {
      "image/png": "[encoded data removed]",
      "text/plain": [
       "<matplotlib.figure.Figure at 0x1047146d8>"
      ]
     },
     "metadata": {},
     "output_type": "display_data"
    }
   ],
   "source": [
    "# Cells without any of the text that we search for using the\n",
    "# strip_notebooks function won't be affected at all.\n",
    "plt.scatter(a, a*2)"
   ]
  },
  {
   "cell_type": "markdown",
   "metadata": {},
   "source": [
    "# Creating markdown answer cells\n",
    "\n",
    "Finally, it is often useful to ask students \"conceptual\" questions that are answered with prose rather than with code. It's clunky to use code cells for this, so `create_answer_cells` also works with markdown cells using the same syntax as before:\n",
    "\n",
    "For example, we could ask students:\n",
    "\n",
    "> $y$ is the square of $x$, explain the relationship between x and y with an equation.\n",
    "\n",
    "### SOLUTION BEGIN\n",
    "$y = x ^ 2$\n",
    "### SOLUTION END\n",
    "\n",
    "And the above will be removed with a prompt for students to answer.\n",
    "\n",
    "\n",
    "# Removing cells entirely\n",
    "The following cell should be removed ONLY in the \"teacher\" version:\n",
    "\n",
    "### TEACHER INFO\n",
    "* We can use the function to remove this entire block, that way we can save notes for the instructor here.\n",
    "* The notes will remain in the instructor master copy, but be removed from the stripped version of the copy (that you'd use for a live demo, for example)"
   ]
  },
  {
   "cell_type": "code",
   "execution_count": null,
   "metadata": {
    "collapsed": true
   },
   "outputs": [],
   "source": []
  }
 ],
 "metadata": {
  "hide_input": false,
  "kernelspec": {
   "display_name": "Python 3",
   "language": "python",
   "name": "python3"
  },
  "language_info": {
   "codemirror_mode": {
    "name": "ipython",
    "version": 3
   },
   "file_extension": ".py",
   "mimetype": "text/x-python",
   "name": "python",
   "nbconvert_exporter": "python",
   "pygments_lexer": "ipython3",
   "version": "3.5.2"
  }
 },
 "nbformat": 4,
 "nbformat_minor": 1
}
