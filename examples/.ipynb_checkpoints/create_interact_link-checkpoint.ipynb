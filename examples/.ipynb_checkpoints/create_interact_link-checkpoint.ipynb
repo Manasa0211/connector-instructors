{
 "cells": [
  {
   "cell_type": "code",
   "execution_count": 1,
   "metadata": {
    "collapsed": false
   },
   "outputs": [],
   "source": [
    "# So we can import connectortools\n",
    "import sys\n",
    "sys.path.append('../')\n",
    "\n",
    "import connectortools as ct"
   ]
  },
  {
   "cell_type": "markdown",
   "metadata": {},
   "source": [
    "Interact links are really useful, but they can be annoying to create from scratch. This function saves you a couple of seconds by creating one for you. Just give it a github path to a file (that's on the data8 collection of repos) and it will create an interact link for you."
   ]
  },
  {
   "cell_type": "code",
   "execution_count": 2,
   "metadata": {
    "collapsed": false
   },
   "outputs": [
    {
     "name": "stdout",
     "output_type": "stream",
     "text": [
      "Your interactive URL is:\n",
      "---\n",
      "http://datahub.berkeley.edu/user-redirect/interact?repo=connector-instructors&path=connectortools\n",
      "---\n"
     ]
    },
    {
     "data": {
      "text/plain": [
       "'http://datahub.berkeley.edu/user-redirect/interact?repo=connector-instructors&path=connectortools'"
      ]
     },
     "execution_count": 2,
     "metadata": {},
     "output_type": "execute_result"
    }
   ],
   "source": [
    "url = \"https://github.com/data-8/connector-instructors/tree/gh-pages/connectortools\"\n",
    "ct.url_to_interact(url)"
   ]
  },
  {
   "cell_type": "markdown",
   "metadata": {
    "collapsed": true
   },
   "source": [
    "Alternatively, you can just pass a repo name. In this case, there *must* be a `gh-pages` branch in the repo, and it will pull all contents of the branch."
   ]
  },
  {
   "cell_type": "code",
   "execution_count": 3,
   "metadata": {
    "collapsed": false
   },
   "outputs": [
    {
     "name": "stdout",
     "output_type": "stream",
     "text": [
      "Your interactive URL is:\n",
      "---\n",
      "http://datahub.berkeley.edu/user-redirect/interact?repo=connector-instructors&path=*\n",
      "---\n"
     ]
    },
    {
     "data": {
      "text/plain": [
       "'http://datahub.berkeley.edu/user-redirect/interact?repo=connector-instructors&path=*'"
      ]
     },
     "execution_count": 3,
     "metadata": {},
     "output_type": "execute_result"
    }
   ],
   "source": [
    "url = \"https://github.com/data-8/connector-instructors/\"\n",
    "ct.url_to_interact(url)"
   ]
  }
 ],
 "metadata": {
  "anaconda-cloud": {},
  "hide_input": false,
  "kernelspec": {
   "display_name": "Python [default]",
   "language": "python",
   "name": "python3"
  },
  "language_info": {
   "codemirror_mode": {
    "name": "ipython",
    "version": 3
   },
   "file_extension": ".py",
   "mimetype": "text/x-python",
   "name": "python",
   "nbconvert_exporter": "python",
   "pygments_lexer": "ipython3",
   "version": "3.5.2"
  }
 },
 "nbformat": 4,
 "nbformat_minor": 0
}
